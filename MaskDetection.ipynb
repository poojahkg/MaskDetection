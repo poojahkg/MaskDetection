{
 "cells": [
  {
   "cell_type": "code",
   "execution_count": 3,
   "metadata": {},
   "outputs": [],
   "source": [
    "from tensorflow.keras.applications.mobilenet_v2 import preprocess_input\n",
    "from tensorflow.keras.preprocessing.image import img_to_array\n",
    "from tensorflow.keras.models import load_model\n",
    "from imutils.video import VideoStream"
   ]
  },
  {
   "cell_type": "code",
   "execution_count": 4,
   "metadata": {},
   "outputs": [],
   "source": [
    "import numpy as np\n",
    "import imutils\n",
    "import time\n",
    "import cv2\n",
    "import os"
   ]
  },
  {
   "cell_type": "code",
   "execution_count": 13,
   "metadata": {},
   "outputs": [],
   "source": [
    "def detect_and_predict_mask(frame, faceNet, maskNet):\n",
    "    #grab the dimensions of the frame and contruct a blob from it\n",
    "    (h,w) = frame.shape[:2]\n",
    "    blob = cv2.dnn.blobFromImage(frame, 1.0, (224,224), (104.0,177.0,123.0))\n",
    "    \n",
    "    #pass the blob through the network and obtain face detections\n",
    "    faceNet.setInput(blob)\n",
    "    detections = faceNet.forward()\n",
    "    #print(detections.shape)\n",
    "    \n",
    "    #list of faces, corresponding location and prediction\n",
    "    faces = []\n",
    "    locs = []\n",
    "    preds = []\n",
    "    \n",
    "    #loop over the detections\n",
    "    for i in range(0, detections.shape[2]):\n",
    "        #extract the confidence/probability associated with thr detection\n",
    "        confidence = detections[0,0,i,2]\n",
    "        \n",
    "        #filer weak detections\n",
    "        if confidence > 0.5:\n",
    "            #compute x,y coordinates for box\n",
    "            box = detections[0, 0, i, 3:7] * np.array([w, h, w, h])\n",
    "            (startX, startY, endX, endY) = box.astype('int')\n",
    "            \n",
    "            #ensure box lies within frame boundary\n",
    "            (startX,startY) = (max(0,startX),max(0,startY))\n",
    "            (endX,endY) = (min(w-1,endX),min(h-1,endY))\n",
    "            \n",
    "            #face ROI, ordering, resizing and preprocess\n",
    "            face = frame[startY:endY, startX:endX]\n",
    "            face = cv2.cvtColor(face, cv2.COLOR_BGR2RGB)\n",
    "            face = cv2.resize(face, (224, 224))\n",
    "            face = img_to_array(face)\n",
    "            face = preprocess_input(face)\n",
    "            \n",
    "            faces.append(face)\n",
    "            locs.append((startX, startY, endX, endY))\n",
    "        \n",
    "    #prediction if atleast one face is detected\n",
    "    if len(faces) > 0:\n",
    "        faces = np.array(faces,dtype='float32')\n",
    "        preds = maskNet.predict(faces, batch_size=32)\n",
    "            \n",
    "    return(locs,preds)"
   ]
  },
  {
   "cell_type": "code",
   "execution_count": 14,
   "metadata": {},
   "outputs": [],
   "source": [
    "#load our serialized face detector model from disk\n",
    "prototxtPath = r'deploy.prototxt'\n",
    "weightsPath = r'res10_300x300_ssd_iter_140000.caffemodel'"
   ]
  },
  {
   "cell_type": "code",
   "execution_count": 15,
   "metadata": {},
   "outputs": [],
   "source": [
    "faceNet = cv2.dnn.readNet(prototxtPath, weightsPath)"
   ]
  },
  {
   "cell_type": "code",
   "execution_count": 16,
   "metadata": {},
   "outputs": [],
   "source": [
    "#load the facemask detector model from the disk\n",
    "maskNet = load_model('mask_detector.model')"
   ]
  },
  {
   "cell_type": "code",
   "execution_count": 17,
   "metadata": {},
   "outputs": [],
   "source": [
    "#initialising the video stream\n",
    "vs = VideoStream(src = 0).start()\n",
    "\n",
    "#loop over the frames from the videostream\n",
    "while True:\n",
    "    #grab the frame from the video and rezise it with max width of 400\n",
    "    frame = vs.read()\n",
    "    frame = imutils.resize(frame, width=400)\n",
    "    \n",
    "    #detect faces and fetermine face mask\n",
    "    (locs, preds) = detect_and_predict_mask(frame, faceNet, maskNet)\n",
    "    \n",
    "    #loop over the detected face and corresponding locations\n",
    "    for (box,pred) in zip(locs, preds):\n",
    "        #unpack the boz and predictions\n",
    "        (startX, startY, endX, endY) = box\n",
    "        (mask, withoutMask) = pred\n",
    "        \n",
    "        #determine class label and color of the box\n",
    "        label = 'Mask' if mask > withoutMask else 'No Mask'\n",
    "        color = (0,255,0) if label == 'Mask' else (0,0,255)\n",
    "        \n",
    "        #include the probability in the label\n",
    "        label = '{} : {:.2f}%'.format(label, max(mask,withoutMask)*100)\n",
    "        \n",
    "        #display the label and bounding box on the output frame\n",
    "        cv2.putText(frame, label, (startX, startY-10),\n",
    "                   cv2.FONT_HERSHEY_SIMPLEX,0.45,color,2)\n",
    "        cv2.rectangle(frame,(startX, startY),(endX, endY),color,2)\n",
    "    \n",
    "    #show the output frame\n",
    "    cv2.imshow('Frame',frame)\n",
    "    key = cv2.waitKey(1) & 0xFF\n",
    "    \n",
    "    #if the 'q' key was pressed, break from the loop\n",
    "    if key == ord('q'):\n",
    "        break\n",
    "#cleanup\n",
    "cv2.destroyAllWindows()\n",
    "vs.stop()"
   ]
  }
 ],
 "metadata": {
  "kernelspec": {
   "display_name": "Python 3",
   "language": "python",
   "name": "python3"
  },
  "language_info": {
   "codemirror_mode": {
    "name": "ipython",
    "version": 3
   },
   "file_extension": ".py",
   "mimetype": "text/x-python",
   "name": "python",
   "nbconvert_exporter": "python",
   "pygments_lexer": "ipython3",
   "version": "3.7.6"
  }
 },
 "nbformat": 4,
 "nbformat_minor": 4
}
